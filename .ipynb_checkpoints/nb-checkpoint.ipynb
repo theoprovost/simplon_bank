{
 "cells": [
  {
   "cell_type": "markdown",
   "id": "1d21f18b-5747-4c6a-9484-956363e7b18f",
   "metadata": {},
   "source": [
    "## Attribution de prêt bancaire\n",
    "Simplonline : https://simplonline.co/briefs/fce27a79-47ba-4968-9553-24befdd92376 <br>\n",
    "Repo : https://github.com/theoprovost/simplon_bank"
   ]
  },
  {
   "cell_type": "markdown",
   "id": "53c0830b-2b9d-43f4-ae6c-9a5aa3c9143b",
   "metadata": {},
   "source": [
    "***Contexte du projet*** <br>\n",
    "Vous devez donc créer un outil d'aider à la décision à destination des banquiers qui doivent gérer l'attribution des prêts. Evidemment, le Crédit Simplonien s'attend à un outil extrêment efficace avec un forte précision et un risque d'erreur proche de 0.\n",
    "\n",
    "Le banquier n'est pas un expert Data, mais il devra être capable de justifier les résultats de l'outil que vous lui mettrez à disposition grâce notamment au document synthétique explicatif."
   ]
  },
  {
   "cell_type": "code",
   "execution_count": null,
   "id": "5efc4be7-77ae-4f2c-9127-4a901e509db2",
   "metadata": {},
   "outputs": [],
   "source": [
    "import pandas as pd\n",
    "\n",
    "from sklearn.model_selection import train_test_split\n",
    "from imblearn.pipeline import Pipeline\n",
    "from sklearn.compose import ColumnTransformer\n",
    "from sklearn.preprocessing import StandardScaler, OneHotEncoder\n",
    "from imblearn.over_sampling import SMOTE\n",
    "from lazypredict.Supervised import LazyClassifier\n",
    "from sklearn.metrics import classification_report\n",
    "from tpot import TPOTClassifier"
   ]
  },
  {
   "cell_type": "code",
   "execution_count": 47,
   "id": "5d99f20b-2435-4ff0-bedf-74f0faf38ecc",
   "metadata": {},
   "outputs": [],
   "source": [
    "def clean_df(df):\n",
    "    df = df.dropna()\n",
    "    df = df.drop('Loan_ID', axis=1)\n",
    "    if 'Loan_Status' in df.columns:\n",
    "        df['Loan_Status'] = df['Loan_Status'].replace(['N', 'Y'], [0, 1])\n",
    "    return df"
   ]
  },
  {
   "cell_type": "code",
   "execution_count": 57,
   "id": "2e0d8d87-10a4-4ee7-81a7-ce2a0fc13246",
   "metadata": {},
   "outputs": [],
   "source": [
    "train_df = pd.read_csv('./train.txt')\n",
    "test_df = pd.read_csv('./test.txt')"
   ]
  },
  {
   "cell_type": "code",
   "execution_count": 4,
   "id": "263b73ba-a0b2-4ea2-95d3-f8f0d6577757",
   "metadata": {},
   "outputs": [
    {
     "data": {
      "text/html": [
       "<div>\n",
       "<style scoped>\n",
       "    .dataframe tbody tr th:only-of-type {\n",
       "        vertical-align: middle;\n",
       "    }\n",
       "\n",
       "    .dataframe tbody tr th {\n",
       "        vertical-align: top;\n",
       "    }\n",
       "\n",
       "    .dataframe thead th {\n",
       "        text-align: right;\n",
       "    }\n",
       "</style>\n",
       "<table border=\"1\" class=\"dataframe\">\n",
       "  <thead>\n",
       "    <tr style=\"text-align: right;\">\n",
       "      <th></th>\n",
       "      <th>Loan_ID</th>\n",
       "      <th>Gender</th>\n",
       "      <th>Married</th>\n",
       "      <th>Dependents</th>\n",
       "      <th>Education</th>\n",
       "      <th>Self_Employed</th>\n",
       "      <th>ApplicantIncome</th>\n",
       "      <th>CoapplicantIncome</th>\n",
       "      <th>LoanAmount</th>\n",
       "      <th>Loan_Amount_Term</th>\n",
       "      <th>Credit_History</th>\n",
       "      <th>Property_Area</th>\n",
       "      <th>Loan_Status</th>\n",
       "    </tr>\n",
       "  </thead>\n",
       "  <tbody>\n",
       "    <tr>\n",
       "      <th>0</th>\n",
       "      <td>LP001002</td>\n",
       "      <td>Male</td>\n",
       "      <td>No</td>\n",
       "      <td>0</td>\n",
       "      <td>Graduate</td>\n",
       "      <td>No</td>\n",
       "      <td>5849</td>\n",
       "      <td>0.00</td>\n",
       "      <td>nan</td>\n",
       "      <td>360.00</td>\n",
       "      <td>1.00</td>\n",
       "      <td>Urban</td>\n",
       "      <td>Y</td>\n",
       "    </tr>\n",
       "    <tr>\n",
       "      <th>1</th>\n",
       "      <td>LP001003</td>\n",
       "      <td>Male</td>\n",
       "      <td>Yes</td>\n",
       "      <td>1</td>\n",
       "      <td>Graduate</td>\n",
       "      <td>No</td>\n",
       "      <td>4583</td>\n",
       "      <td>1508.00</td>\n",
       "      <td>128.00</td>\n",
       "      <td>360.00</td>\n",
       "      <td>1.00</td>\n",
       "      <td>Rural</td>\n",
       "      <td>N</td>\n",
       "    </tr>\n",
       "    <tr>\n",
       "      <th>2</th>\n",
       "      <td>LP001005</td>\n",
       "      <td>Male</td>\n",
       "      <td>Yes</td>\n",
       "      <td>0</td>\n",
       "      <td>Graduate</td>\n",
       "      <td>Yes</td>\n",
       "      <td>3000</td>\n",
       "      <td>0.00</td>\n",
       "      <td>66.00</td>\n",
       "      <td>360.00</td>\n",
       "      <td>1.00</td>\n",
       "      <td>Urban</td>\n",
       "      <td>Y</td>\n",
       "    </tr>\n",
       "    <tr>\n",
       "      <th>3</th>\n",
       "      <td>LP001006</td>\n",
       "      <td>Male</td>\n",
       "      <td>Yes</td>\n",
       "      <td>0</td>\n",
       "      <td>Not Graduate</td>\n",
       "      <td>No</td>\n",
       "      <td>2583</td>\n",
       "      <td>2358.00</td>\n",
       "      <td>120.00</td>\n",
       "      <td>360.00</td>\n",
       "      <td>1.00</td>\n",
       "      <td>Urban</td>\n",
       "      <td>Y</td>\n",
       "    </tr>\n",
       "    <tr>\n",
       "      <th>4</th>\n",
       "      <td>LP001008</td>\n",
       "      <td>Male</td>\n",
       "      <td>No</td>\n",
       "      <td>0</td>\n",
       "      <td>Graduate</td>\n",
       "      <td>No</td>\n",
       "      <td>6000</td>\n",
       "      <td>0.00</td>\n",
       "      <td>141.00</td>\n",
       "      <td>360.00</td>\n",
       "      <td>1.00</td>\n",
       "      <td>Urban</td>\n",
       "      <td>Y</td>\n",
       "    </tr>\n",
       "  </tbody>\n",
       "</table>\n",
       "</div>"
      ],
      "text/plain": [
       "    Loan_ID Gender Married Dependents     Education Self_Employed  \\\n",
       "0  LP001002   Male      No          0      Graduate            No   \n",
       "1  LP001003   Male     Yes          1      Graduate            No   \n",
       "2  LP001005   Male     Yes          0      Graduate           Yes   \n",
       "3  LP001006   Male     Yes          0  Not Graduate            No   \n",
       "4  LP001008   Male      No          0      Graduate            No   \n",
       "\n",
       "   ApplicantIncome  CoapplicantIncome  LoanAmount  Loan_Amount_Term  \\\n",
       "0             5849               0.00         nan            360.00   \n",
       "1             4583            1508.00      128.00            360.00   \n",
       "2             3000               0.00       66.00            360.00   \n",
       "3             2583            2358.00      120.00            360.00   \n",
       "4             6000               0.00      141.00            360.00   \n",
       "\n",
       "   Credit_History Property_Area Loan_Status  \n",
       "0            1.00         Urban           Y  \n",
       "1            1.00         Rural           N  \n",
       "2            1.00         Urban           Y  \n",
       "3            1.00         Urban           Y  \n",
       "4            1.00         Urban           Y  "
      ]
     },
     "execution_count": 4,
     "metadata": {},
     "output_type": "execute_result"
    }
   ],
   "source": [
    "train_df.head()"
   ]
  },
  {
   "cell_type": "code",
   "execution_count": 5,
   "id": "ba5f3bd8-2a18-4db4-b473-fb3489355238",
   "metadata": {},
   "outputs": [
    {
     "data": {
      "text/plain": [
       "Y    422\n",
       "N    192\n",
       "Name: Loan_Status, dtype: int64"
      ]
     },
     "execution_count": 5,
     "metadata": {},
     "output_type": "execute_result"
    }
   ],
   "source": [
    "train_df['Loan_Status'].value_counts()"
   ]
  },
  {
   "cell_type": "code",
   "execution_count": 6,
   "id": "d49dc07c-0fbd-431f-ada4-2ce2b7e0c3e4",
   "metadata": {},
   "outputs": [],
   "source": [
    "# Perfom all necessery modification on the given dataset\n",
    "train_df = clean_df(train_df)"
   ]
  },
  {
   "cell_type": "code",
   "execution_count": 8,
   "id": "dbb5cc5b-fb56-4885-bb67-c14f92aeeefc",
   "metadata": {},
   "outputs": [],
   "source": [
    "categorical_features = ['Gender', 'Married', 'Education', 'Self_Employed', 'Property_Area', 'Dependents']\n",
    "numeric_features = ['ApplicantIncome', 'CoapplicantIncome', 'LoanAmount', 'Loan_Amount_Term', 'Credit_History']"
   ]
  },
  {
   "cell_type": "code",
   "execution_count": 9,
   "id": "2f4d3f00-338b-4a50-abf0-d2e38e0325c0",
   "metadata": {},
   "outputs": [],
   "source": [
    "X = train_df[categorical_features + numeric_features]\n",
    "y = train_df['Loan_Status']\n",
    "\n",
    "X_train, X_test, y_train, y_test = train_test_split(X, y, test_size=.3, random_state=42, stratify=y)"
   ]
  },
  {
   "cell_type": "markdown",
   "id": "41aa848f-2256-4c0f-b59b-914b5a314260",
   "metadata": {},
   "source": [
    "-----\n",
    "#### Baseline - Lazy preddict classifier"
   ]
  },
  {
   "cell_type": "code",
   "execution_count": null,
   "id": "e4e2123b-566a-4687-9a42-4980a8d85505",
   "metadata": {},
   "outputs": [],
   "source": [
    "lazy_clf = LazyClassifier(verbose=0,ignore_warnings=True)\n",
    "models, predictions = lazy_clf.fit(X_train, X_test, y_train, y_test)"
   ]
  },
  {
   "cell_type": "code",
   "execution_count": 12,
   "id": "58be217b-0af1-4ffb-9cf5-30213464e2bc",
   "metadata": {},
   "outputs": [
    {
     "data": {
      "text/html": [
       "<div>\n",
       "<style scoped>\n",
       "    .dataframe tbody tr th:only-of-type {\n",
       "        vertical-align: middle;\n",
       "    }\n",
       "\n",
       "    .dataframe tbody tr th {\n",
       "        vertical-align: top;\n",
       "    }\n",
       "\n",
       "    .dataframe thead th {\n",
       "        text-align: right;\n",
       "    }\n",
       "</style>\n",
       "<table border=\"1\" class=\"dataframe\">\n",
       "  <thead>\n",
       "    <tr style=\"text-align: right;\">\n",
       "      <th></th>\n",
       "      <th>Accuracy</th>\n",
       "      <th>Balanced Accuracy</th>\n",
       "      <th>ROC AUC</th>\n",
       "      <th>F1 Score</th>\n",
       "      <th>Time Taken</th>\n",
       "    </tr>\n",
       "    <tr>\n",
       "      <th>Model</th>\n",
       "      <th></th>\n",
       "      <th></th>\n",
       "      <th></th>\n",
       "      <th></th>\n",
       "      <th></th>\n",
       "    </tr>\n",
       "  </thead>\n",
       "  <tbody>\n",
       "    <tr>\n",
       "      <th>LinearSVC</th>\n",
       "      <td>0.85</td>\n",
       "      <td>0.77</td>\n",
       "      <td>0.77</td>\n",
       "      <td>0.84</td>\n",
       "      <td>0.04</td>\n",
       "    </tr>\n",
       "    <tr>\n",
       "      <th>LinearDiscriminantAnalysis</th>\n",
       "      <td>0.85</td>\n",
       "      <td>0.77</td>\n",
       "      <td>0.77</td>\n",
       "      <td>0.84</td>\n",
       "      <td>0.02</td>\n",
       "    </tr>\n",
       "    <tr>\n",
       "      <th>BaggingClassifier</th>\n",
       "      <td>0.79</td>\n",
       "      <td>0.77</td>\n",
       "      <td>0.77</td>\n",
       "      <td>0.79</td>\n",
       "      <td>0.03</td>\n",
       "    </tr>\n",
       "    <tr>\n",
       "      <th>LogisticRegression</th>\n",
       "      <td>0.84</td>\n",
       "      <td>0.76</td>\n",
       "      <td>0.76</td>\n",
       "      <td>0.83</td>\n",
       "      <td>0.02</td>\n",
       "    </tr>\n",
       "    <tr>\n",
       "      <th>RidgeClassifier</th>\n",
       "      <td>0.85</td>\n",
       "      <td>0.76</td>\n",
       "      <td>0.76</td>\n",
       "      <td>0.83</td>\n",
       "      <td>0.02</td>\n",
       "    </tr>\n",
       "    <tr>\n",
       "      <th>CalibratedClassifierCV</th>\n",
       "      <td>0.85</td>\n",
       "      <td>0.76</td>\n",
       "      <td>0.76</td>\n",
       "      <td>0.83</td>\n",
       "      <td>0.09</td>\n",
       "    </tr>\n",
       "    <tr>\n",
       "      <th>NearestCentroid</th>\n",
       "      <td>0.85</td>\n",
       "      <td>0.76</td>\n",
       "      <td>0.76</td>\n",
       "      <td>0.83</td>\n",
       "      <td>0.02</td>\n",
       "    </tr>\n",
       "    <tr>\n",
       "      <th>GaussianNB</th>\n",
       "      <td>0.83</td>\n",
       "      <td>0.76</td>\n",
       "      <td>0.76</td>\n",
       "      <td>0.82</td>\n",
       "      <td>0.02</td>\n",
       "    </tr>\n",
       "    <tr>\n",
       "      <th>LGBMClassifier</th>\n",
       "      <td>0.81</td>\n",
       "      <td>0.76</td>\n",
       "      <td>0.76</td>\n",
       "      <td>0.80</td>\n",
       "      <td>0.05</td>\n",
       "    </tr>\n",
       "    <tr>\n",
       "      <th>AdaBoostClassifier</th>\n",
       "      <td>0.83</td>\n",
       "      <td>0.75</td>\n",
       "      <td>0.75</td>\n",
       "      <td>0.82</td>\n",
       "      <td>0.10</td>\n",
       "    </tr>\n",
       "    <tr>\n",
       "      <th>XGBClassifier</th>\n",
       "      <td>0.80</td>\n",
       "      <td>0.75</td>\n",
       "      <td>0.75</td>\n",
       "      <td>0.80</td>\n",
       "      <td>0.04</td>\n",
       "    </tr>\n",
       "    <tr>\n",
       "      <th>SVC</th>\n",
       "      <td>0.84</td>\n",
       "      <td>0.75</td>\n",
       "      <td>0.75</td>\n",
       "      <td>0.83</td>\n",
       "      <td>0.02</td>\n",
       "    </tr>\n",
       "    <tr>\n",
       "      <th>RidgeClassifierCV</th>\n",
       "      <td>0.84</td>\n",
       "      <td>0.75</td>\n",
       "      <td>0.75</td>\n",
       "      <td>0.83</td>\n",
       "      <td>0.02</td>\n",
       "    </tr>\n",
       "  </tbody>\n",
       "</table>\n",
       "</div>"
      ],
      "text/plain": [
       "                            Accuracy  Balanced Accuracy  ROC AUC  F1 Score  \\\n",
       "Model                                                                        \n",
       "LinearSVC                       0.85               0.77     0.77      0.84   \n",
       "LinearDiscriminantAnalysis      0.85               0.77     0.77      0.84   \n",
       "BaggingClassifier               0.79               0.77     0.77      0.79   \n",
       "LogisticRegression              0.84               0.76     0.76      0.83   \n",
       "RidgeClassifier                 0.85               0.76     0.76      0.83   \n",
       "CalibratedClassifierCV          0.85               0.76     0.76      0.83   \n",
       "NearestCentroid                 0.85               0.76     0.76      0.83   \n",
       "GaussianNB                      0.83               0.76     0.76      0.82   \n",
       "LGBMClassifier                  0.81               0.76     0.76      0.80   \n",
       "AdaBoostClassifier              0.83               0.75     0.75      0.82   \n",
       "XGBClassifier                   0.80               0.75     0.75      0.80   \n",
       "SVC                             0.84               0.75     0.75      0.83   \n",
       "RidgeClassifierCV               0.84               0.75     0.75      0.83   \n",
       "\n",
       "                            Time Taken  \n",
       "Model                                   \n",
       "LinearSVC                         0.04  \n",
       "LinearDiscriminantAnalysis        0.02  \n",
       "BaggingClassifier                 0.03  \n",
       "LogisticRegression                0.02  \n",
       "RidgeClassifier                   0.02  \n",
       "CalibratedClassifierCV            0.09  \n",
       "NearestCentroid                   0.02  \n",
       "GaussianNB                        0.02  \n",
       "LGBMClassifier                    0.05  \n",
       "AdaBoostClassifier                0.10  \n",
       "XGBClassifier                     0.04  \n",
       "SVC                               0.02  \n",
       "RidgeClassifierCV                 0.02  "
      ]
     },
     "execution_count": 12,
     "metadata": {},
     "output_type": "execute_result"
    }
   ],
   "source": [
    "models[models['Balanced Accuracy'] > 0.75]"
   ]
  },
  {
   "cell_type": "markdown",
   "id": "055e015b-23aa-4ad7-9ecc-fadb2a9ba89f",
   "metadata": {},
   "source": [
    "-----\n",
    "#### Model selection\n",
    "\n",
    "Selection des modèles les plus prometteurs."
   ]
  },
  {
   "cell_type": "code",
   "execution_count": 17,
   "id": "9a74c17a-658d-4672-a0c6-e740a19e41fa",
   "metadata": {},
   "outputs": [],
   "source": [
    "from sklearn.neighbors import KNeighborsClassifier as KNN\n",
    "from sklearn.ensemble import AdaBoostClassifier\n",
    "from sklearn.linear_model import LogisticRegression\n",
    "from sklearn.naive_bayes import BernoulliNB\n",
    "from sklearn.svm import LinearSVC"
   ]
  },
  {
   "cell_type": "code",
   "execution_count": 18,
   "id": "9b1d7cc7-f44b-483e-a273-c9e7c7e796fc",
   "metadata": {},
   "outputs": [],
   "source": [
    "# Preprocessing categorical features\n",
    "categorical_transformer = OneHotEncoder(handle_unknown=\"ignore\")\n",
    "\n",
    "# Preprocessing numeric features\n",
    "numeric_transformer = StandardScaler()\n",
    "\n",
    "preprocessor = ColumnTransformer(\n",
    "    transformers=[\n",
    "        ('num', numeric_transformer, numeric_features),\n",
    "        ('cat', categorical_transformer, categorical_features),\n",
    "    ]\n",
    ")"
   ]
  },
  {
   "cell_type": "code",
   "execution_count": 19,
   "id": "170827aa-c30a-4915-92b1-2de86a0ebfe6",
   "metadata": {},
   "outputs": [
    {
     "name": "stdout",
     "output_type": "stream",
     "text": [
      "KNeighborsClassifier() results :\n",
      "\n",
      "              precision    recall  f1-score   support\n",
      "\n",
      "           0       0.64      0.49      0.55        57\n",
      "           1       0.71      0.82      0.76        87\n",
      "\n",
      "    accuracy                           0.69       144\n",
      "   macro avg       0.67      0.65      0.66       144\n",
      "weighted avg       0.68      0.69      0.68       144\n",
      "\n",
      "\n",
      "\n",
      "AdaBoostClassifier() results :\n",
      "\n",
      "              precision    recall  f1-score   support\n",
      "\n",
      "           0       0.73      0.62      0.67        52\n",
      "           1       0.80      0.87      0.83        92\n",
      "\n",
      "    accuracy                           0.78       144\n",
      "   macro avg       0.76      0.74      0.75       144\n",
      "weighted avg       0.77      0.78      0.77       144\n",
      "\n",
      "\n",
      "\n",
      "LogisticRegression() results :\n",
      "\n",
      "              precision    recall  f1-score   support\n",
      "\n",
      "           0       0.66      0.53      0.59        55\n",
      "           1       0.74      0.83      0.78        89\n",
      "\n",
      "    accuracy                           0.72       144\n",
      "   macro avg       0.70      0.68      0.68       144\n",
      "weighted avg       0.71      0.72      0.71       144\n",
      "\n",
      "\n",
      "\n",
      "BernoulliNB() results :\n",
      "\n",
      "              precision    recall  f1-score   support\n",
      "\n",
      "           0       0.64      0.56      0.60        50\n",
      "           1       0.78      0.83      0.80        94\n",
      "\n",
      "    accuracy                           0.74       144\n",
      "   macro avg       0.71      0.69      0.70       144\n",
      "weighted avg       0.73      0.74      0.73       144\n",
      "\n",
      "\n",
      "\n",
      "LinearSVC() results :\n",
      "\n",
      "              precision    recall  f1-score   support\n",
      "\n",
      "           0       0.66      0.54      0.59        54\n",
      "           1       0.75      0.83      0.79        90\n",
      "\n",
      "    accuracy                           0.72       144\n",
      "   macro avg       0.70      0.69      0.69       144\n",
      "weighted avg       0.72      0.72      0.72       144\n",
      "\n",
      "\n",
      "\n"
     ]
    }
   ],
   "source": [
    "knn_clf = KNN()\n",
    "adaBoost_clf = AdaBoostClassifier() \n",
    "logReg_clf = LogisticRegression()\n",
    "bernoulli_clf = BernoulliNB()\n",
    "linearSVC_clf = LinearSVC()\n",
    "\n",
    "model_selection = [knn_clf, adaBoost_clf, logReg_clf, bernoulli_clf, linearSVC_clf]\n",
    "\n",
    "for x in model_selection:\n",
    "    pipe = Pipeline([\n",
    "        ('preprocessor', preprocessor),\n",
    "        ('smote', SMOTE(random_state=42)),\n",
    "        ('clf', x)\n",
    "    ])\n",
    "    \n",
    "    pipe.fit(X_train, y_train)\n",
    "    y_pred = pipe.predict(X_test)\n",
    "    \n",
    "    print(f'{x} results :\\n')\n",
    "    print(classification_report(y_pred, y_test))\n",
    "    print('\\n')"
   ]
  },
  {
   "cell_type": "markdown",
   "id": "37c435b1-f96c-4431-a7d8-17cdc3589a55",
   "metadata": {},
   "source": [
    "-----\n",
    "#### Model tuning - AdaBoost\n",
    "\n",
    "Etant donné les scores obtenus sur les modèles testés, le choix de l'algorithme AdaBoost a été privilégié."
   ]
  },
  {
   "cell_type": "code",
   "execution_count": 28,
   "id": "88493309-2b87-43c1-aad1-49028fb15de9",
   "metadata": {},
   "outputs": [],
   "source": [
    "from sklearn.model_selection import GridSearchCV\n",
    "from sklearn.model_selection import learning_curve\n",
    "import numpy as np\n",
    "import matplotlib.pyplot as plt"
   ]
  },
  {
   "cell_type": "code",
   "execution_count": 94,
   "id": "aa1a0e4c-97ab-43b1-b055-27a2fa1102b3",
   "metadata": {},
   "outputs": [
    {
     "name": "stdout",
     "output_type": "stream",
     "text": [
      "AdaBoost GridSearchCV results :\n",
      "\n",
      "Best params : {'clf__n_estimators': 50}\n",
      "\n",
      "\n",
      "              precision    recall  f1-score   support\n",
      "\n",
      "           0       0.73      0.62      0.67        52\n",
      "           1       0.80      0.87      0.83        92\n",
      "\n",
      "    accuracy                           0.78       144\n",
      "   macro avg       0.76      0.74      0.75       144\n",
      "weighted avg       0.77      0.78      0.77       144\n",
      "\n"
     ]
    }
   ],
   "source": [
    "params = {\n",
    "    'clf__n_estimators': [50, 100, 150, 200]\n",
    "}\n",
    "\n",
    "pipe = Pipeline([\n",
    "        ('preprocessor', preprocessor),\n",
    "        ('smote', SMOTE(random_state=42)),\n",
    "        ('clf', adaBoost_clf)\n",
    "    ])\n",
    "\n",
    "AdaGrid_clf = GridSearchCV(pipe, params)\n",
    "AdaGrid_clf.fit(X_train, y_train)\n",
    "y_pred = AdaGrid_clf.predict(X_test)\n",
    "\n",
    "print('AdaBoost GridSearchCV results :\\n')\n",
    "print('Best params :', AdaGrid_clf.best_params_)\n",
    "print('\\n')\n",
    "print(classification_report(y_pred, y_test))"
   ]
  },
  {
   "cell_type": "code",
   "execution_count": 43,
   "id": "06f508f7-f04e-46f0-b5de-8a94ef8f35b6",
   "metadata": {},
   "outputs": [],
   "source": [
    "train_sizes, train_scores, test_scores = learning_curve(pipe, X_train, y_train, cv=10, scoring='precision')\n",
    "\n",
    "train_mean = np.mean(train_scores, axis=1)\n",
    "train_std = np.std(train_scores, axis=1)\n",
    "test_mean = np.mean(test_scores, axis=1)\n",
    "test_std = np.std(test_scores, axis=1)"
   ]
  },
  {
   "cell_type": "code",
   "execution_count": 92,
   "id": "b7720163-04b2-4654-b094-aea70afb598c",
   "metadata": {},
   "outputs": [
    {
     "data": {
      "image/png": "[encoded data removed]",
      "text/plain": [
       "<Figure size 1440x504 with 1 Axes>"
      ]
     },
     "metadata": {
      "needs_background": "light"
     },
     "output_type": "display_data"
    }
   ],
   "source": [
    "plt.figure(figsize=(20,7))\n",
    "plt.plot(train_sizes, train_mean, color='blue', marker='o', markersize=5, label='Training precision')\n",
    "plt.fill_between(train_sizes, train_mean + train_std, train_mean - train_std, alpha=0.15, color='blue')\n",
    "plt.plot(train_sizes, test_mean, color='green', marker='+', markersize=5, linestyle='--', label='Validation precision')\n",
    "plt.fill_between(train_sizes, test_mean + test_std, test_mean - test_std, alpha=0.15, color='green')\n",
    "plt.title('AdaBoost Learning Curve')\n",
    "plt.xlabel('Training Data Size')\n",
    "plt.ylabel('Model precision')\n",
    "plt.legend(loc='lower right')\n",
    "plt.show()"
   ]
  },
  {
   "cell_type": "markdown",
   "id": "1a9c9a05-d785-43fb-9876-1eae930bf097",
   "metadata": {},
   "source": [
    "On remarque une convergence des résultats. Il ne semble pas y avoir de cas d'over ni d'under-fitting."
   ]
  },
  {
   "cell_type": "markdown",
   "id": "fb26f201-c991-42fe-8dac-8fa9af7cb855",
   "metadata": {},
   "source": [
    "-----\n",
    "#### Conclusion\n",
    "\n",
    "La precision du model quant à la non attribution d'un crédit par rapport aux données fournies est d'environ 73%. Le model sera en revanche plus précis dans le cas d'un octroi; ainsi, dans 80% des cas, l'algorithme sera en mesure de prédire correctement l'attribution d'un crédit. Il y a donc une marge d'erreur relativement importante. Néanmoins, ce modèle pourrait être amélioré via ces pistes :\n",
    "- augmentation du volume de données, notamment pour le cas d'un refus de prêt\n",
    "- tuning du modèle et notamment du `base_estimator` ?\n",
    "- veritable EDA et preprocessing plus fin\n",
    "\n",
    "----"
   ]
  },
  {
   "cell_type": "markdown",
   "id": "5807f1d1-56ca-4e5a-9a71-3e85546e7da3",
   "metadata": {},
   "source": [
    "#### X_test in situation"
   ]
  },
  {
   "cell_type": "code",
   "execution_count": 58,
   "id": "0dcb5b50-00d4-4762-ad0e-dfe5acadc971",
   "metadata": {},
   "outputs": [],
   "source": [
    "# Prediction on test dataframe \n",
    "test_df = clean_df(test_df)\n",
    "test_pred = pipe.predict(test_df)"
   ]
  },
  {
   "cell_type": "code",
   "execution_count": 97,
   "id": "dfff1056-e136-4d18-af81-94c7a5b95ef6",
   "metadata": {},
   "outputs": [
    {
     "name": "stdout",
     "output_type": "stream",
     "text": [
      "Test data (test_df) : \n",
      "\n",
      "No loan attributed by the model count : 96\n",
      "Loan attributed by the model count : 193\n",
      "A loan has been attributed in 67% of the cases\n",
      "\n",
      "Train data (train_df's test) : \n",
      "\n",
      "No loan attributed by the model count : 148\n",
      "Loan attributed by the model count : 332\n",
      "A loan has been attributed in 69% of the cases\n"
     ]
    }
   ],
   "source": [
    "case_0_test = np.count_nonzero(test_pred == 0)\n",
    "case_1_test = np.count_nonzero(test_pred == 1)\n",
    "ratio_test = (case_1_test / (case_0_test + case_1_test)) * 100\n",
    "\n",
    "print('Test data (test_df) : \\n')\n",
    "print('No loan attributed by the model count :', case_0_test)\n",
    "print('Loan attributed by the model count :', case_1_test)\n",
    "print(f'A loan has been attributed in {round(ratio_test)}% of the cases')\n",
    "\n",
    "case_0_train = y[y == 0].count()\n",
    "case_1_train = y[y == 1].count()\n",
    "ratio_train = (case_1_train / (case_0_train + case_1_train)) * 100\n",
    "\n",
    "print('\\nTrain data (train_df\\'s test) : \\n')\n",
    "print('No loan attributed by the model count :', case_0_train)\n",
    "print('Loan attributed by the model count :', case_1_train)\n",
    "print(f'A loan has been attributed in {round(ratio_train)}% of the cases')"
   ]
  },
  {
   "cell_type": "code",
   "execution_count": null,
   "id": "5cf3dbe9-34df-471b-9321-451ce5dc6dfa",
   "metadata": {},
   "outputs": [],
   "source": []
  }
 ],
 "metadata": {
  "kernelspec": {
   "display_name": "Python 3 (ipykernel)",
   "language": "python",
   "name": "python3"
  },
  "language_info": {
   "codemirror_mode": {
    "name": "ipython",
    "version": 3
   },
   "file_extension": ".py",
   "mimetype": "text/x-python",
   "name": "python",
   "nbconvert_exporter": "python",
   "pygments_lexer": "ipython3",
   "version": "3.8.8"
  },
  "widgets": {
   "application/vnd.jupyter.widget-state+json": {
    "state": {},
    "version_major": 2,
    "version_minor": 0
   }
  }
 },
 "nbformat": 4,
 "nbformat_minor": 5
}
